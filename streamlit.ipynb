{
 "cells": [
  {
   "cell_type": "code",
   "execution_count": 1,
   "metadata": {},
   "outputs": [],
   "source": [
    "import requests\n",
    "import streamlit as st\n"
   ]
  },
  {
   "cell_type": "code",
   "execution_count": 2,
   "metadata": {},
   "outputs": [],
   "source": [
    "st.set_page_config(page_title=\"My webpage\", page_icon=\":tada:\", layout = \"wide\")"
   ]
  },
  {
   "cell_type": "code",
   "execution_count": 3,
   "metadata": {},
   "outputs": [
    {
     "name": "stderr",
     "output_type": "stream",
     "text": [
      "2022-06-16 20:18:17.127 \n",
      "  \u001b[33m\u001b[1mWarning:\u001b[0m to view this Streamlit app on a browser, run it with the following\n",
      "  command:\n",
      "\n",
      "    streamlit run /Library/Frameworks/Python.framework/Versions/3.9/lib/python3.9/site-packages/ipykernel_launcher.py [ARGUMENTS]\n"
     ]
    }
   ],
   "source": [
    "# HEADER SECTION\n",
    "with st.container():\n",
    "    st.subheader(\"Hi, I AM WAVE\")\n",
    "    st.title(\"Team 1 Capstone Project\")\n",
    "    st.write('I am just out here trying to get a job this is my junory')\n"
   ]
  },
  {
   "cell_type": "code",
   "execution_count": 4,
   "metadata": {},
   "outputs": [],
   "source": [
    "# -----WHAT I DO----\n",
    "with st.container():\n",
    "    st.write(\"----\")\n",
    "    left_column, right_column = st.columns(2)\n",
    "    with left_column:\n",
    "        st.header(\"what I do\")\n",
    "        st.write(\"##\")\n",
    "        st.write(\n",
    "            \"\"\"\n",
    "            Cheat code tutorial for people:\n",
    "            - are looking for ways to leverage the power of Python in their day to day work.\n",
    "            - are struggling with how to make a dashboard for their capstone project\n",
    "            - want to learn Data Analysis & Data Science to perform meaningful and impactful analysis\n",
    "\n",
    "            There's no need to spend days or weeks building a website anymore. In this video, I'm going to show you how to build a website with a blog and a contact page in only 12 minutes using Python, Streamlit and other open-source tools.\n",
    "\n",
    "        \"\"\")\n",
    "        \n",
    "\n"
   ]
  },
  {
   "cell_type": "code",
   "execution_count": 5,
   "metadata": {},
   "outputs": [],
   "source": [
    "click_me = st.button(\"Click\")\n",
    "if click_me:\n",
    "    st.write(\"yay, it works\")"
   ]
  },
  {
   "cell_type": "markdown",
   "metadata": {},
   "source": []
  }
 ],
 "metadata": {
  "kernelspec": {
   "display_name": "Python 3.9.5 64-bit",
   "language": "python",
   "name": "python3"
  },
  "language_info": {
   "codemirror_mode": {
    "name": "ipython",
    "version": 3
   },
   "file_extension": ".py",
   "mimetype": "text/x-python",
   "name": "python",
   "nbconvert_exporter": "python",
   "pygments_lexer": "ipython3",
   "version": "3.9.5"
  },
  "orig_nbformat": 4,
  "vscode": {
   "interpreter": {
    "hash": "aee8b7b246df8f9039afb4144a1f6fd8d2ca17a180786b69acc140d282b71a49"
   }
  }
 },
 "nbformat": 4,
 "nbformat_minor": 2
}
